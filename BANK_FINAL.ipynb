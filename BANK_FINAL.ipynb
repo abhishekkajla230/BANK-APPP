{
 "cells": [
  {
   "cell_type": "code",
   "execution_count": null,
   "metadata": {},
   "outputs": [],
   "source": []
  },
  {
   "cell_type": "code",
   "execution_count": null,
   "metadata": {},
   "outputs": [],
   "source": []
  },
  {
   "cell_type": "code",
   "execution_count": null,
   "metadata": {},
   "outputs": [],
   "source": [
    "import os\n"
   ]
  },
  {
   "cell_type": "code",
   "execution_count": 6,
   "metadata": {},
   "outputs": [
    {
     "data": {
      "text/plain": [
       "[('.', ['.ipynb_checkpoints'], ['902472', '9876593', 'BANK_FINAL.ipynb']),\n",
       " ('.\\\\.ipynb_checkpoints', [], ['BANK_FINAL-checkpoint.ipynb'])]"
      ]
     },
     "execution_count": 6,
     "metadata": {},
     "output_type": "execute_result"
    }
   ],
   "source": [
    "l=list(os.walk('.'))\n",
    "l"
   ]
  },
  {
   "cell_type": "code",
   "execution_count": 8,
   "metadata": {},
   "outputs": [
    {
     "data": {
      "text/plain": [
       "['902472', '9876593', 'BANK_FINAL.ipynb']"
      ]
     },
     "execution_count": 8,
     "metadata": {},
     "output_type": "execute_result"
    }
   ],
   "source": [
    "l[0][2]"
   ]
  },
  {
   "cell_type": "code",
   "execution_count": 3,
   "metadata": {},
   "outputs": [
    {
     "name": "stdout",
     "output_type": "stream",
     "text": [
      "\n",
      "\n",
      "1. LOGIN \n",
      "2. SIGN-Up \n",
      "3. EXIT  \n",
      "ENTER YOUR CHOICE ---> 3\n",
      "Rate your experience from 1 to 10 -->213456\n",
      "WOW !!  you gave us 213456 WE loved your feedback\n",
      "\n",
      "!!! SEE YOU AGAIN !!!\n"
     ]
    }
   ],
   "source": [
    "from time import sleep\n",
    "from getpass import getpass\n",
    "def options():\n",
    "    def signup():\n",
    "        import json\n",
    "        \n",
    "        \n",
    "        name=input(\"Please Enter your name :- \")\n",
    "        user_name=input(\"Please create a username :- \" )\n",
    "        password=getpass(\"CREATE A PASSWORD :-\")\n",
    "        contact=(input(\"Enter your phone number :- \"))\n",
    "        balance=float(input(\"Your Balance amount :- \"))\n",
    "        \n",
    "        from random import randint\n",
    "        global acc1\n",
    "        acc1=contact+str(randint(10,99))\n",
    "        print(f\"\\n hello new user your A/c no. is {acc1}\")\n",
    "        \n",
    "        \n",
    "        global signupdata\n",
    "        signupdata={acc1:{'name':name,'user_name':user_name,'rem_bal':balance,'contact':contact,\"password\":password}}\n",
    "        \n",
    "        fp=open(f\"{acc1}\",'w')\n",
    "        json.dump(signupdata,fp)\n",
    "        fp.close()\n",
    "        \n",
    "        from time import sleep\n",
    "            \n",
    "        for var in range(5):\n",
    "            \n",
    "            sleep(0.5)\n",
    "            print(\".\",end=' ')\n",
    "            \n",
    "        print(\"\\n ** Sign up Successfully ** \\n\\n Please login \")\n",
    "        \n",
    "        login()\n",
    "    \n",
    "    def login():\n",
    "        import os\n",
    "        l=list(os.walk('.'))\n",
    "        #db=json.loads(db)\n",
    "        #key=db.keys()\n",
    "        ACC=input(\"Enter your a/c no. :-\")\n",
    "        for var in l[0][2]:\n",
    "            if ACC==var:\n",
    "                #print(var)\n",
    "                #print(l[0][2])\n",
    "                \n",
    "                f=open(f\"{var}\")\n",
    "                global db\n",
    "                db=json.load(f)\n",
    "                f.close()\n",
    "                \n",
    "                user=input(\"USER-NAME --> \")\n",
    "                pswd=getpass(\"PASSWORD--> \")\n",
    "                if user==db[var]['user_name'] and pswd==db[var]['password']:\n",
    "                    \n",
    "                    \n",
    "                    \n",
    "                    from time import sleep\n",
    "\n",
    "                    for va in range(5):\n",
    "                        sleep(0.5)\n",
    "                        print(\".\",end=' ')\n",
    "                    \n",
    "                    \n",
    "                    welcome=db[var]['name']\n",
    "                    global rem_bal\n",
    "                    rem_bal=db[var]['rem_bal']\n",
    "                    print(f\" \\n Hello ! {welcome}  WELCOME to Python-Bank of Jaipur \\n Your current balance is :- Rs {rem_bal}\\- \")\n",
    "                    services()\n",
    "        else:\n",
    "            for var in range(5):\n",
    "                from time import sleep\n",
    "\n",
    "                sleep(0.5)\n",
    "                print(\".\",end=' ')\n",
    "            print(\"xxxx - INVALID A/c no. -xxxx\\n Please Try Again \\n\")\n",
    "\n",
    "            login()\n",
    "\n",
    "    def services():\n",
    "        \n",
    "        print('\\nOur Services :-\\n')\n",
    "        print('1. DEBIT \\n2. CREDIT\\n3. CHECK_BAL.\\n4. LOGOUT')\n",
    "        service_choice=int(input(\"Enter your Choice :- \"))\n",
    "        if service_choice==1:\n",
    "            debit()\n",
    "        elif service_choice==2:\n",
    "            credit()\n",
    "        elif service_choice==3:\n",
    "            print(f\"\\nYour current balance is Rs {rem_bal}\\- \")\n",
    "            services()\n",
    "        elif service_choice == 4:\n",
    "            for var in range(3):\n",
    "\n",
    "                sleep(0.5)\n",
    "                print(\".\",end=' ')\n",
    "            import os\n",
    "            os.system('cls')\n",
    "            options()\n",
    "        else :\n",
    "            services()\n",
    "            \n",
    "    def debit():\n",
    "        global rem_bal\n",
    "\n",
    "        deb=int(input(\"Enter amount :-\"))\n",
    "        \n",
    "        if deb<=rem_bal:\n",
    "            rem_bal=rem_bal-deb\n",
    "            \n",
    "            fp=open(f'{acc1}','w')\n",
    "            signupdata[acc1]['rem_bal']=rem_bal\n",
    "            json.dump(signupdata,fp)\n",
    "            fp.close()\n",
    "            \n",
    "            for var in range(5):\n",
    "\n",
    "                sleep(0.5)\n",
    "                print(\".\",end=' ')\n",
    "            print(f\"\\nRs {deb} debited from your a/c \\n Your remaining Balance is Rs {rem_bal}\\-\\n\")\n",
    "            for var in range(5):\n",
    "\n",
    "                sleep(0.5)\n",
    "                print(\".\",end=' ')\n",
    "\n",
    "            services()\n",
    "\n",
    "        else:\n",
    "            for var in range(3):\n",
    "\n",
    "                sleep(0.4)\n",
    "                print(\".\",end=' ')\n",
    "\n",
    "            print(f\"xxx UNSUFFICIENT BALANCE xxx\\n You have only  RS {rem_bal}/- \")\n",
    "            services()\n",
    "                          \n",
    "                          \n",
    "             \n",
    "                          \n",
    "    def credit():\n",
    "        global rem_bal\n",
    "\n",
    "\n",
    "        cre=int(input(\"Enter amount :-\"))\n",
    "        rem_bal=rem_bal+cre\n",
    "        \n",
    "        fp=open(f'{acc1}','w')\n",
    "        signupdata[acc1]['rem_bal']=rem_bal\n",
    "        json.dump(signupdata,fp)\n",
    "        fp.close()\n",
    "\n",
    "\n",
    "        for var in range(5):\n",
    "            sleep(0.5)\n",
    "            print(\".\",end=' ')\n",
    "\n",
    "        print(f\"\\nRs {cre} credited to your a/c \\n Your remaining Balance is Rs {rem_bal}\\-\\n\")\n",
    "        for var in range(5):\n",
    "\n",
    "            sleep(0.3)\n",
    "            print(\".\",end=' ')\n",
    "\n",
    "        services()    \n",
    "\n",
    "    import json\n",
    "    print(\"\\n\\n1. LOGIN \")\n",
    "    print(\"2. SIGN-Up \")\n",
    "    print(\"3. EXIT  \")\n",
    "    \n",
    "    choice=int(input(\"ENTER YOUR CHOICE ---> \"))\n",
    "            \n",
    "\n",
    "    if choice==2:\n",
    "        signup()\n",
    "        \n",
    "       \n",
    "    elif choice==1:\n",
    "        #f=open(\"signup.bank\")\n",
    "        #data=json.load(f)\n",
    "        #f.close()\n",
    "        \n",
    "        login()\n",
    "        \n",
    "        \n",
    "    elif choice==3:\n",
    "        \n",
    "        rating=int(input(\"Rate your experience from 1 to 10 -->\"))\n",
    "        if rating>=8:\n",
    "            print(\"WOW !!  you gave us\",rating,\"WE loved your feedback\")\n",
    "        elif 5<=rating<8:\n",
    "            print(\"!!Thank you !! \"\"you gave us\",rating,\"WE liked your feedback\")\n",
    "        else:\n",
    "            print(\"OH !!! It seems you didn't like the App \")\n",
    "            input(\"PLZ GIVE US SUGGESTIONS:-\")\n",
    "        #print(\"***  THANK YOU *** \")\n",
    "    \n",
    "       \n",
    "        exit(1)\n",
    "        print(\"\\n!!! SEE YOU AGAIN !!!\")\n",
    "        \n",
    "options()\n",
    "        "
   ]
  },
  {
   "cell_type": "code",
   "execution_count": 6,
   "metadata": {},
   "outputs": [],
   "source": [
    "d={'name':'','class':'bcaIII','cntact':9829376808,'rem_bal':''}"
   ]
  },
  {
   "cell_type": "code",
   "execution_count": 7,
   "metadata": {},
   "outputs": [],
   "source": [
    "d['name']='akay'"
   ]
  },
  {
   "cell_type": "code",
   "execution_count": 9,
   "metadata": {},
   "outputs": [],
   "source": [
    "d['rem_bal']= 1000"
   ]
  },
  {
   "cell_type": "code",
   "execution_count": 19,
   "metadata": {},
   "outputs": [
    {
     "data": {
      "text/plain": [
       "{'name': 'akay', 'class': 'bcaIII', 'cntact': 9829376808, 'rem_bal': 1000}"
      ]
     },
     "execution_count": 19,
     "metadata": {},
     "output_type": "execute_result"
    }
   ],
   "source": [
    "d"
   ]
  },
  {
   "cell_type": "code",
   "execution_count": 12,
   "metadata": {},
   "outputs": [],
   "source": [
    "import json"
   ]
  },
  {
   "cell_type": "code",
   "execution_count": 25,
   "metadata": {},
   "outputs": [],
   "source": [
    "fp=open('check.bank','w')\n",
    "d['rem_bal']=123\n",
    "json.dump(d,fp)\n",
    "fp.close()"
   ]
  },
  {
   "cell_type": "code",
   "execution_count": 26,
   "metadata": {},
   "outputs": [],
   "source": [
    "fp=open(\"check.bank\")\n",
    "dt=json.load(fp)\n",
    "fp.close()"
   ]
  },
  {
   "cell_type": "code",
   "execution_count": 27,
   "metadata": {},
   "outputs": [
    {
     "data": {
      "text/plain": [
       "{'name': 'akay', 'class': 'bcaIII', 'cntact': 9829376808, 'rem_bal': 123}"
      ]
     },
     "execution_count": 27,
     "metadata": {},
     "output_type": "execute_result"
    }
   ],
   "source": [
    "dt"
   ]
  },
  {
   "cell_type": "code",
   "execution_count": null,
   "metadata": {},
   "outputs": [],
   "source": []
  }
 ],
 "metadata": {
  "kernelspec": {
   "display_name": "Python 3",
   "language": "python",
   "name": "python3"
  },
  "language_info": {
   "codemirror_mode": {
    "name": "ipython",
    "version": 3
   },
   "file_extension": ".py",
   "mimetype": "text/x-python",
   "name": "python",
   "nbconvert_exporter": "python",
   "pygments_lexer": "ipython3",
   "version": "3.7.3"
  }
 },
 "nbformat": 4,
 "nbformat_minor": 2
}
